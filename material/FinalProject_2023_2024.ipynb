{
  "cells": [
    {
      "cell_type": "code",
      "execution_count": null,
      "id": "3fe94688",
      "metadata": {
        "id": "3fe94688"
      },
      "outputs": [],
      "source": [
        "%matplotlib inline\n",
        "from numpy import *\n",
        "from matplotlib.pyplot import *"
      ]
    },
    {
      "cell_type": "markdown",
      "source": [
        "**First exercise**\n",
        "\n",
        "\n",
        "---\n",
        "\n",
        "\n",
        "Let consider the following function in the interval $(0,1)$:\n",
        "$$\n",
        "f(x) = -\\left|x-\\frac{1}{2}\\right| + \\frac{1}{2}. %\\quad\\mathrm{ in }\\ \\Omega = (0, \\pi)\n",
        "$$\n",
        "Define a function that given the interpolation points, the index of the basis and the evaluation points, return the lagrange basis. Then, plot the basis."
      ],
      "metadata": {
        "id": "YJDBF1MK_qQ7"
      },
      "id": "YJDBF1MK_qQ7"
    },
    {
      "cell_type": "code",
      "source": [
        "def lagrange_basis(interpolation_points, n_basis, evaluation_points):\n",
        "  pass #TODO\n",
        "  return l"
      ],
      "metadata": {
        "id": "MkMjgsHAORVC"
      },
      "id": "MkMjgsHAORVC",
      "execution_count": null,
      "outputs": []
    },
    {
      "cell_type": "markdown",
      "source": [
        "Compute and plot the Lebesgue function using both equispaced and Chebyshev nodes."
      ],
      "metadata": {
        "id": "8NrtQcLEOwCq"
      },
      "id": "8NrtQcLEOwCq"
    },
    {
      "cell_type": "code",
      "source": [
        "#TODO"
      ],
      "metadata": {
        "id": "87UeSY4BPUai"
      },
      "id": "87UeSY4BPUai",
      "execution_count": null,
      "outputs": []
    },
    {
      "cell_type": "markdown",
      "source": [
        "Plot the function $f(x)$ and the polynomial interpolation using both equispaced and Chebyshev nodes."
      ],
      "metadata": {
        "id": "D3n0u8I5PitP"
      },
      "id": "D3n0u8I5PitP"
    },
    {
      "cell_type": "code",
      "source": [
        "#TODO"
      ],
      "metadata": {
        "id": "oq7mqmChPw9f"
      },
      "id": "oq7mqmChPw9f",
      "execution_count": null,
      "outputs": []
    },
    {
      "cell_type": "markdown",
      "source": [
        "Compute and plot the error between $f(x)$ and the interpolation as the degree of the polynomial increase using both equispaced and Chebyshev nodes."
      ],
      "metadata": {
        "id": "uEejjZ6bQBLD"
      },
      "id": "uEejjZ6bQBLD"
    },
    {
      "cell_type": "code",
      "source": [
        "#TODO"
      ],
      "metadata": {
        "id": "Qhn7Z72rQVKc"
      },
      "id": "Qhn7Z72rQVKc",
      "execution_count": null,
      "outputs": []
    },
    {
      "cell_type": "markdown",
      "source": [
        "Compute and plot the Lebesgue function as the number of nodes increase using both equispaced and Chebyshev nodes."
      ],
      "metadata": {
        "id": "-95ZN0ZRQlbI"
      },
      "id": "-95ZN0ZRQlbI"
    },
    {
      "cell_type": "code",
      "source": [
        "#TODO"
      ],
      "metadata": {
        "id": "GehODDzBQtTr"
      },
      "id": "GehODDzBQtTr",
      "execution_count": null,
      "outputs": []
    },
    {
      "cell_type": "markdown",
      "id": "8184faab",
      "metadata": {
        "id": "8184faab"
      },
      "source": [
        "**Second exercise**\n",
        "\n",
        "\n",
        "---\n",
        "\n",
        "Consider the following one-dimensional PDE:\n",
        "$$\n",
        "-u_{xx}(x) = f(x)\\quad\\mathrm{ in }\\ \\Omega = (0, 1)\n",
        "$$\n",
        "$$\n",
        "u(x) = 0, \\quad\\mathrm{ on }\\ \\partial\\Omega = \\{0, 1\\}.\n",
        "$$\n",
        "\n",
        "Implement a function that given the domain interval, the forcing function, the number of discretization points, returns the matrix $A$ and the right hand side $b$.\n",
        "\n",
        "Let $x_i$ with $i=1,2,...,N-1$ the internal discretization points. Use the following $4^{th}$ order central finite difference approximation for $i = 2,...,N-2$:\n",
        "$$u_{xx}(x_i) = \\frac{-u_{i-2}+16u_{i-1}-30u_i+16u_{i+1}-u_{i+2}}{12h^2},$$\n",
        "derive (by using the Taylor series expansion/undetermined coefficients method) and use a $4^{th}$ order forward finite difference approximation for $i=1$ and a $4^{th}$ order backward finite difference approximation scheme for $i = N-1$."
      ]
    },
    {
      "cell_type": "code",
      "execution_count": null,
      "id": "1c562f13",
      "metadata": {
        "id": "1c562f13"
      },
      "outputs": [],
      "source": [
        "def finDif(omega,f,n):\n",
        "    pass #TODO\n",
        "    return A, b"
      ]
    },
    {
      "cell_type": "markdown",
      "id": "c21bb21e",
      "metadata": {
        "id": "c21bb21e"
      },
      "source": [
        "Call the function using:"
      ]
    },
    {
      "cell_type": "code",
      "execution_count": null,
      "id": "23af8831",
      "metadata": {
        "id": "23af8831"
      },
      "outputs": [],
      "source": [
        "omega = [0,1]\n",
        "f = lambda x : -abs(x-0.5*np.ones(len(x))) + 0.5*np.ones(len(x))\n",
        "n = 100\n",
        "bc = [0,0] # boundary conditions\n",
        "A, b = finDif(omega, f, n)"
      ]
    },
    {
      "cell_type": "markdown",
      "id": "4f8a7c6f",
      "metadata": {
        "id": "4f8a7c6f"
      },
      "source": [
        "Implement a function that computes the LU of the system matrix $A$"
      ]
    },
    {
      "cell_type": "code",
      "execution_count": null,
      "id": "47468a37",
      "metadata": {
        "id": "47468a37"
      },
      "outputs": [],
      "source": [
        "def LU(A):\n",
        "    pass #TODO\n",
        "    return L, U\n",
        "\n",
        "L, U = LU(A)"
      ]
    },
    {
      "cell_type": "markdown",
      "id": "41eb8436",
      "metadata": {
        "id": "41eb8436"
      },
      "source": [
        "Implement forward and backward substitution functions to exploit the developed factorization methods to solve the derived linear system of equations."
      ]
    },
    {
      "cell_type": "code",
      "execution_count": null,
      "id": "019cf0df",
      "metadata": {
        "id": "019cf0df"
      },
      "outputs": [],
      "source": [
        "def L_solve(L,rhs):\n",
        "    pass #todo\n",
        "    return x"
      ]
    },
    {
      "cell_type": "code",
      "execution_count": null,
      "id": "26ce17c4",
      "metadata": {
        "id": "26ce17c4"
      },
      "outputs": [],
      "source": [
        "def U_solve(U,rhs):\n",
        "    pass # TODO\n",
        "    return x"
      ]
    },
    {
      "cell_type": "markdown",
      "id": "08ac9ba1",
      "metadata": {
        "id": "08ac9ba1"
      },
      "source": [
        "Solve the derived linear system using the implemented functions and plot the computed solution:"
      ]
    },
    {
      "cell_type": "code",
      "execution_count": null,
      "id": "7c1de4f3",
      "metadata": {
        "id": "7c1de4f3"
      },
      "outputs": [],
      "source": [
        "#TODO"
      ]
    },
    {
      "cell_type": "markdown",
      "id": "62cdfe65",
      "metadata": {
        "id": "62cdfe65"
      },
      "source": [
        "Produce a plot and a table where you show the decay of the error vs the number of grid points.\n",
        "(The exact solution for the above problem can be considered the one obtained from the function 'numpy.linalg.solve' avaliable on numpy)"
      ]
    },
    {
      "cell_type": "code",
      "execution_count": null,
      "id": "91212afb",
      "metadata": {
        "id": "91212afb"
      },
      "outputs": [],
      "source": [
        "#TODO"
      ]
    },
    {
      "cell_type": "markdown",
      "id": "c8d5002f",
      "metadata": {
        "id": "c8d5002f"
      },
      "source": [
        "Exploit the derived LU factorization to compute the condition number of the system's matrix $A$ using the original problem formulation."
      ]
    },
    {
      "cell_type": "code",
      "execution_count": null,
      "id": "c25fc1fe",
      "metadata": {
        "id": "c25fc1fe"
      },
      "outputs": [],
      "source": [
        "def condNumb(A):\n",
        "    pass #TODO\n",
        "    return condNu"
      ]
    },
    {
      "cell_type": "markdown",
      "id": "85d5f64e",
      "metadata": {
        "id": "85d5f64e"
      },
      "source": [
        "Compute the inverse of the matrix A exploiting the derived LU factorization"
      ]
    },
    {
      "cell_type": "code",
      "source": [
        "#TODO"
      ],
      "metadata": {
        "id": "r8OrGV2VxWBV"
      },
      "id": "r8OrGV2VxWBV",
      "execution_count": null,
      "outputs": []
    },
    {
      "cell_type": "markdown",
      "id": "2728b49a",
      "metadata": {
        "id": "2728b49a"
      },
      "source": [
        "Implement a preconditioned Gradient method to solve the original linear system of equations using an iterative method and plot the solution."
      ]
    },
    {
      "cell_type": "code",
      "execution_count": null,
      "id": "62b83aee",
      "metadata": {
        "id": "62b83aee"
      },
      "outputs": [],
      "source": [
        "def gradient(A, b, P, nmax=len(A), eps=1e-10):\n",
        "    pass #TODO"
      ]
    },
    {
      "cell_type": "markdown",
      "id": "8a4cfc02",
      "metadata": {
        "id": "8a4cfc02"
      },
      "source": [
        "**Third exercise**\n",
        "\n",
        "\n",
        "---\n",
        "\n",
        "Consider the following time dependent variation of the PDE starting from the orginal problem formulation:\n",
        "$$\n",
        "u'(t)-k(x)u_{xx} = \\alpha(t)f(x)\n",
        "$$\n",
        "\n",
        "for $t\\in [0,T]$, with $u(t=0)=0$, $k(x) = x$, $\\alpha(t) = \\cos^2(t)$ and $T = 4\\pi$\n",
        "\n",
        "Use the same finite difference scheme to derive the semi-discrete formulation and solve it using a forward Euler's method for the first time step and a backward differencing formula of second order for the others time steps.\n",
        "\n",
        "Plot the time dependent solution at $x = 1/3$, $x = 1/2$, $x=1$.\n"
      ]
    },
    {
      "cell_type": "code",
      "execution_count": null,
      "id": "6ad7199f",
      "metadata": {
        "id": "6ad7199f"
      },
      "outputs": [],
      "source": [
        "#TODO"
      ]
    }
  ],
  "metadata": {
    "kernelspec": {
      "display_name": "Python 3 (ipykernel)",
      "language": "python",
      "name": "python3"
    },
    "language_info": {
      "codemirror_mode": {
        "name": "ipython",
        "version": 3
      },
      "file_extension": ".py",
      "mimetype": "text/x-python",
      "name": "python",
      "nbconvert_exporter": "python",
      "pygments_lexer": "ipython3",
      "version": "3.8.11"
    },
    "colab": {
      "provenance": []
    }
  },
  "nbformat": 4,
  "nbformat_minor": 5
}