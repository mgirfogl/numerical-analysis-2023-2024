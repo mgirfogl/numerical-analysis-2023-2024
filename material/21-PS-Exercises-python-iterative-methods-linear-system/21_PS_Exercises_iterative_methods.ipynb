{
  "nbformat": 4,
  "nbformat_minor": 0,
  "metadata": {
    "colab": {
      "provenance": []
    },
    "kernelspec": {
      "name": "python3",
      "display_name": "Python 3"
    },
    "language_info": {
      "name": "python"
    }
  },
  "cells": [
    {
      "cell_type": "code",
      "execution_count": 9,
      "metadata": {
        "id": "A5XdZ6mlpVPD"
      },
      "outputs": [],
      "source": [
        "%matplotlib inline\n",
        "from numpy import *\n",
        "from matplotlib.pyplot import *"
      ]
    },
    {
      "cell_type": "code",
      "source": [
        "n = 30\n",
        "h = 1./(n-1)\n",
        "\n",
        "x = linspace(0,1,n)\n",
        "\n",
        "a = -ones((n-1,))\n",
        "b = 2*ones((n))\n",
        "\n",
        "A = (1/h**2)*(diag(a,-1) + diag(b) + diag(a,+1))\n",
        "f = x*(1-x)\n",
        "\n",
        "A[0,:] = 0\n",
        "A[:,0] = 0\n",
        "A[0,0] = 1\n",
        "f[0] = 0\n",
        "\n",
        "A[-1,:] = 0\n",
        "A[:,-1] = 0\n",
        "A[-1,-1] = 1\n",
        "f[-1] = 0\n",
        "\n",
        "# exact solution\n",
        "u = linalg.solve(A, f)"
      ],
      "metadata": {
        "id": "CLlkc3eO84I9"
      },
      "execution_count": 10,
      "outputs": []
    },
    {
      "cell_type": "code",
      "source": [
        "# Jacobi method\n",
        "def jacobi(A, b, nmax=10000, eps=1e-10):\n",
        "  N = len(A)\n",
        "  x = zeros_like(b)\n",
        "  x_old = zeros_like(b)\n",
        "  tol = eps+1\n",
        "  it = 0\n",
        "  while(it<nmax and tol>eps):\n",
        "    it += 1\n",
        "    for i in range(N):\n",
        "      x[i] = 1./A[i,i]*(b[i]-dot(A[i,0:i], x_old[0:i]) - dot(A[i,i+1:N],x_old[i+1:N]))\n",
        "\n",
        "    res = b - dot(A,x)\n",
        "    tol = linalg.norm(res,2)\n",
        "\n",
        "    x_old = x.copy()\n",
        "\n",
        "  print(it, tol)\n",
        "  return x"
      ],
      "metadata": {
        "id": "MASLa61q9-_b"
      },
      "execution_count": 11,
      "outputs": []
    },
    {
      "cell_type": "code",
      "source": [
        "sol_jacobi = jacobi(A, f)\n",
        "print(linalg.norm(sol_jacobi-u)/linalg.norm(u))"
      ],
      "metadata": {
        "colab": {
          "base_uri": "https://localhost:8080/"
        },
        "id": "2OLMFt7uA8Zj",
        "outputId": "253eb5e7-f175-4c38-e2a8-fc40136bafe7"
      },
      "execution_count": 12,
      "outputs": [
        {
          "output_type": "stream",
          "name": "stdout",
          "text": [
            "3914 9.965885316539395e-11\n",
            "1.01435369692299e-10\n"
          ]
        }
      ]
    },
    {
      "cell_type": "code",
      "source": [
        "# Gauss Seidel method\n",
        "def gauss_seidel(A, b, nmax=10000, eps=1e-10):\n",
        "  N = len(A)\n",
        "  x = zeros_like(b)\n",
        "  x_old = zeros_like(b)\n",
        "  tol = eps+1\n",
        "  it = 0\n",
        "  while(it<nmax and tol>eps):\n",
        "    it += 1\n",
        "    for i in range(N):\n",
        "      x[i] = 1./A[i,i]*(b[i]-dot(A[i,0:i], x[0:i]) - dot(A[i,i+1:N],x_old[i+1:N]))\n",
        "\n",
        "    res = b - dot(A,x)\n",
        "    tol = linalg.norm(res,2)\n",
        "\n",
        "    x_old = x.copy()\n",
        "\n",
        "  print(it, tol)\n",
        "  return x"
      ],
      "metadata": {
        "id": "hU8rT1eMCCKT"
      },
      "execution_count": 14,
      "outputs": []
    },
    {
      "cell_type": "code",
      "source": [
        "sol_gauss_seidel = gauss_seidel(A, f)\n",
        "print(linalg.norm(sol_gauss_seidel-u)/linalg.norm(u))"
      ],
      "metadata": {
        "colab": {
          "base_uri": "https://localhost:8080/"
        },
        "id": "4L_seSZECLvP",
        "outputId": "0d188eda-d5be-4f0b-8d36-707c81c84570"
      },
      "execution_count": 15,
      "outputs": [
        {
          "output_type": "stream",
          "name": "stdout",
          "text": [
            "1958 9.975573046289024e-11\n",
            "1.0068983192453529e-10\n"
          ]
        }
      ]
    },
    {
      "cell_type": "code",
      "source": [
        "# Preconditioned gradient method\n",
        "\n",
        "def grandient(A, b, P, nmax=8000, eps=1e-10):\n",
        "  n = len(A)\n",
        "  x = zeros_like(b)\n",
        "  tol = eps+1\n",
        "  r = b - dot(A,x)\n",
        "  count = 0\n",
        "  while(count<nmax and tol > eps):\n",
        "    z = linalg.solve(P,r)\n",
        "    alpha = dot(r,z) / (dot(z,dot(A,z)))\n",
        "    x = x + alpha*z\n",
        "    r = r - alpha*dot(A,z)\n",
        "    tol = linalg.norm(r,2)\n",
        "    count = count + 1\n",
        "  print(count, tol)\n",
        "  return x"
      ],
      "metadata": {
        "id": "zpYSULazC9uC"
      },
      "execution_count": 16,
      "outputs": []
    },
    {
      "cell_type": "code",
      "source": [
        "sol_grad = grandient(A, f, identity(len(A)))\n",
        "print(linalg.norm(sol_grad - u)/linalg.norm(u))\n",
        "\n",
        "sol_pre_grad = grandient(A, f, A)\n",
        "print(linalg.norm(sol_pre_grad - u)/linalg.norm(u))"
      ],
      "metadata": {
        "colab": {
          "base_uri": "https://localhost:8080/"
        },
        "id": "DVCgBPjHGl8z",
        "outputId": "0fad2f32-eef4-45b4-d3b9-b254e413951a"
      },
      "execution_count": 18,
      "outputs": [
        {
          "output_type": "stream",
          "name": "stdout",
          "text": [
            "3183 9.950273670244494e-11\n",
            "7.477371613409447e-11\n",
            "1 1.2400191698686355e-14\n",
            "1.9043722965187744e-15\n"
          ]
        }
      ]
    },
    {
      "cell_type": "code",
      "source": [
        "# Precoditioned conjugate gradient method\n",
        "def conj_grad(A, b, P, nmax=len(A), eps=1e-10):\n",
        "  N = len(A)\n",
        "  x = zeros_like(b)\n",
        "  tol = eps+1\n",
        "  it = 0\n",
        "  r = b - dot(A,x)\n",
        "  p_old = zeros_like(b)\n",
        "  rho_old = 1.\n",
        "  while (it<nmax and tol>eps):\n",
        "    it += 1\n",
        "    z = linalg.solve(P,r)\n",
        "    rho = dot(r,z)\n",
        "    if (it>1):\n",
        "      beta = rho/rho_old\n",
        "      p = z + beta*p_old\n",
        "    else:\n",
        "      p = z\n",
        "    q = dot(A,p)\n",
        "    alpha = rho/dot(p,q)\n",
        "    x += p*alpha\n",
        "    r -= q*alpha\n",
        "\n",
        "    p_old = p\n",
        "    rho_old = rho\n",
        "\n",
        "    tol = linalg.norm(r,2)\n",
        "\n",
        "  print(it, tol)\n",
        "  return x"
      ],
      "metadata": {
        "id": "PKEodXanHuJ8"
      },
      "execution_count": 19,
      "outputs": []
    },
    {
      "cell_type": "code",
      "source": [
        "sol_conj_grad = conj_grad(A, f, identity(len(A)))\n",
        "print(linalg.norm(sol_conj_grad-u)/linalg.norm(u))\n",
        "\n",
        "sol_pre_conj_grad = conj_grad(A, f, A)\n",
        "print(linalg.norm(sol_pre_conj_grad-u)/linalg.norm(u))"
      ],
      "metadata": {
        "colab": {
          "base_uri": "https://localhost:8080/"
        },
        "id": "RohxOzk4LgLH",
        "outputId": "87d03420-00a6-45d5-b0e2-4e661cc89542"
      },
      "execution_count": 21,
      "outputs": [
        {
          "output_type": "stream",
          "name": "stdout",
          "text": [
            "14 5.944685519295643e-16\n",
            "1.1809539624857359e-15\n",
            "1 1.2400191698686355e-14\n",
            "1.9043722965187744e-15\n"
          ]
        }
      ]
    }
  ]
}